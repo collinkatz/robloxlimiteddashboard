{
 "cells": [
  {
   "cell_type": "code",
   "execution_count": 35,
   "metadata": {},
   "outputs": [],
   "source": [
    "import requests\n",
    "import pandas as pd\n",
    "import matplotlib.pyplot as plt"
   ]
  },
  {
   "cell_type": "code",
   "execution_count": 36,
   "id": "6da931d8",
   "metadata": {},
   "outputs": [],
   "source": [
    "def refresh_session_headers(session):\n",
    "    try:\n",
    "        req = session.post(url=\"https://auth.roblox.com/v2/login\")\n",
    "        print(req.headers[\"x-csrf-token\"])\n",
    "\n",
    "        csrf_token = req.headers.get(\"x-csrf-token\")\n",
    "        if not csrf_token:\n",
    "            raise ValueError(\"x-csrf-token not found in response headers\")\n",
    "\n",
    "        # Set session headers\n",
    "        session.headers[\"Referer\"] = \"https://www.roblox.com\"\n",
    "        session.headers[\"x-csrf-token\"] = req.headers[\"x-csrf-token\"]\n",
    "        session.headers[\"content-type\"] = \"application/json\"\n",
    "\n",
    "    except Exception as e:\n",
    "        print(f\"Error refreshing session headers: {e}\")\n",
    "\n",
    "def get_asset_id(session, item_id):\n",
    "\n",
    "    refresh_session_headers(session)\n",
    "\n",
    "    detail_content = get_item_detail_data(session, item_id)\n",
    "\n",
    "    return detail_content[\"collectibleItemId\"]\n",
    "\n",
    "def get_item_detail_data(session, item_id):\n",
    "\n",
    "    refresh_session_headers(session)\n",
    "\n",
    "    # Create payload to get data on items\n",
    "    payload = {\n",
    "        \"items\": [\n",
    "            {\n",
    "            \"itemType\": 1,\n",
    "            \"id\": item_id\n",
    "            }\n",
    "        ]\n",
    "    }\n",
    "\n",
    "    data = session.post(\"https://catalog.roblox.com/v1/catalog/items/details\", json=payload)\n",
    "\n",
    "    return data.json()[\"data\"][0]\n",
    "\n",
    "def get_resale_data(session, item_id):\n",
    "    \n",
    "    refresh_session_headers(session)\n",
    "\n",
    "    asset_id = get_asset_id(session, item_id)\n",
    "\n",
    "    data = session.get(\"https://apis.roblox.com/marketplace-sales/v1/item/\" + str(asset_id) + \"/resale-data\").json()\n",
    "\n",
    "    price = data[\"priceDataPoints\"]\n",
    "    volume = data[\"volumeDataPoints\"]\n",
    "    # Create Dataframe\n",
    "    df_price = pd.DataFrame(price)\n",
    "    df_volume = pd.DataFrame(volume)\n",
    "    # Change date column to datetime objects for ease of use\n",
    "    df_price[\"date\"] = pd.to_datetime(df_price[\"date\"])\n",
    "    df_volume[\"date\"] = pd.to_datetime(df_volume[\"date\"])\n",
    "\n",
    "    return {\"price\": df_price, \"volume\": df_volume}\n",
    "\n",
    "def get_user_limited_items(session, user_id):\n",
    "\n",
    "    page_size = 10\n",
    "    \n",
    "    refresh_session_headers(session)\n",
    "\n",
    "    data = session.get(\"https://inventory.roblox.com/v1/users/\" + str(user_id) + \"/assets/collectibles?limit=\" + str(page_size) + \"&sortOrder=Asc\").json()\n",
    "    df = pd.DataFrame(data[\"data\"])\n",
    "\n",
    "    while data[\"nextPageCursor\"] is not None:\n",
    "        next_page_cursor = data[\"nextPageCursor\"]\n",
    "        data = session.get(\"https://inventory.roblox.com/v1/users/\" + str(user_id) + \"/assets/collectibles?cursor=\" + next_page_cursor + \"&limit=\" + str(page_size) + \"&sortOrder=Asc\").json()\n",
    "        new_df = pd.DataFrame(data[\"data\"])\n",
    "        df = pd.concat([df, new_df])\n",
    "\n",
    "    return df\n",
    "\n"
   ]
  },
  {
   "cell_type": "code",
   "execution_count": 37,
   "id": "3c8554cf",
   "metadata": {},
   "outputs": [
    {
     "name": "stdout",
     "output_type": "stream",
     "text": [
      "gCdkNhmCXYsr\n",
      "Error refreshing session headers: 'x-csrf-token'\n",
      "Error refreshing session headers: 'x-csrf-token'\n"
     ]
    },
    {
     "ename": "JSONDecodeError",
     "evalue": "Expecting value: line 1 column 1 (char 0)",
     "output_type": "error",
     "traceback": [
      "\u001b[1;31m---------------------------------------------------------------------------\u001b[0m",
      "\u001b[1;31mJSONDecodeError\u001b[0m                           Traceback (most recent call last)",
      "File \u001b[1;32mc:\\Users\\goodv\\anaconda3\\envs\\roblox\\Lib\\site-packages\\requests\\models.py:971\u001b[0m, in \u001b[0;36mResponse.json\u001b[1;34m(self, **kwargs)\u001b[0m\n\u001b[0;32m    970\u001b[0m \u001b[38;5;28;01mtry\u001b[39;00m:\n\u001b[1;32m--> 971\u001b[0m     \u001b[38;5;28;01mreturn\u001b[39;00m complexjson\u001b[38;5;241m.\u001b[39mloads(\u001b[38;5;28mself\u001b[39m\u001b[38;5;241m.\u001b[39mtext, \u001b[38;5;241m*\u001b[39m\u001b[38;5;241m*\u001b[39mkwargs)\n\u001b[0;32m    972\u001b[0m \u001b[38;5;28;01mexcept\u001b[39;00m JSONDecodeError \u001b[38;5;28;01mas\u001b[39;00m e:\n\u001b[0;32m    973\u001b[0m     \u001b[38;5;66;03m# Catch JSON-related errors and raise as requests.JSONDecodeError\u001b[39;00m\n\u001b[0;32m    974\u001b[0m     \u001b[38;5;66;03m# This aliases json.JSONDecodeError and simplejson.JSONDecodeError\u001b[39;00m\n",
      "File \u001b[1;32mc:\\Users\\goodv\\anaconda3\\envs\\roblox\\Lib\\json\\__init__.py:346\u001b[0m, in \u001b[0;36mloads\u001b[1;34m(s, cls, object_hook, parse_float, parse_int, parse_constant, object_pairs_hook, **kw)\u001b[0m\n\u001b[0;32m    343\u001b[0m \u001b[38;5;28;01mif\u001b[39;00m (\u001b[38;5;28mcls\u001b[39m \u001b[38;5;129;01mis\u001b[39;00m \u001b[38;5;28;01mNone\u001b[39;00m \u001b[38;5;129;01mand\u001b[39;00m object_hook \u001b[38;5;129;01mis\u001b[39;00m \u001b[38;5;28;01mNone\u001b[39;00m \u001b[38;5;129;01mand\u001b[39;00m\n\u001b[0;32m    344\u001b[0m         parse_int \u001b[38;5;129;01mis\u001b[39;00m \u001b[38;5;28;01mNone\u001b[39;00m \u001b[38;5;129;01mand\u001b[39;00m parse_float \u001b[38;5;129;01mis\u001b[39;00m \u001b[38;5;28;01mNone\u001b[39;00m \u001b[38;5;129;01mand\u001b[39;00m\n\u001b[0;32m    345\u001b[0m         parse_constant \u001b[38;5;129;01mis\u001b[39;00m \u001b[38;5;28;01mNone\u001b[39;00m \u001b[38;5;129;01mand\u001b[39;00m object_pairs_hook \u001b[38;5;129;01mis\u001b[39;00m \u001b[38;5;28;01mNone\u001b[39;00m \u001b[38;5;129;01mand\u001b[39;00m \u001b[38;5;129;01mnot\u001b[39;00m kw):\n\u001b[1;32m--> 346\u001b[0m     \u001b[38;5;28;01mreturn\u001b[39;00m _default_decoder\u001b[38;5;241m.\u001b[39mdecode(s)\n\u001b[0;32m    347\u001b[0m \u001b[38;5;28;01mif\u001b[39;00m \u001b[38;5;28mcls\u001b[39m \u001b[38;5;129;01mis\u001b[39;00m \u001b[38;5;28;01mNone\u001b[39;00m:\n",
      "File \u001b[1;32mc:\\Users\\goodv\\anaconda3\\envs\\roblox\\Lib\\json\\decoder.py:337\u001b[0m, in \u001b[0;36mJSONDecoder.decode\u001b[1;34m(self, s, _w)\u001b[0m\n\u001b[0;32m    333\u001b[0m \u001b[38;5;250m\u001b[39m\u001b[38;5;124;03m\"\"\"Return the Python representation of ``s`` (a ``str`` instance\u001b[39;00m\n\u001b[0;32m    334\u001b[0m \u001b[38;5;124;03mcontaining a JSON document).\u001b[39;00m\n\u001b[0;32m    335\u001b[0m \n\u001b[0;32m    336\u001b[0m \u001b[38;5;124;03m\"\"\"\u001b[39;00m\n\u001b[1;32m--> 337\u001b[0m obj, end \u001b[38;5;241m=\u001b[39m \u001b[38;5;28mself\u001b[39m\u001b[38;5;241m.\u001b[39mraw_decode(s, idx\u001b[38;5;241m=\u001b[39m_w(s, \u001b[38;5;241m0\u001b[39m)\u001b[38;5;241m.\u001b[39mend())\n\u001b[0;32m    338\u001b[0m end \u001b[38;5;241m=\u001b[39m _w(s, end)\u001b[38;5;241m.\u001b[39mend()\n",
      "File \u001b[1;32mc:\\Users\\goodv\\anaconda3\\envs\\roblox\\Lib\\json\\decoder.py:355\u001b[0m, in \u001b[0;36mJSONDecoder.raw_decode\u001b[1;34m(self, s, idx)\u001b[0m\n\u001b[0;32m    354\u001b[0m \u001b[38;5;28;01mexcept\u001b[39;00m \u001b[38;5;167;01mStopIteration\u001b[39;00m \u001b[38;5;28;01mas\u001b[39;00m err:\n\u001b[1;32m--> 355\u001b[0m     \u001b[38;5;28;01mraise\u001b[39;00m JSONDecodeError(\u001b[38;5;124m\"\u001b[39m\u001b[38;5;124mExpecting value\u001b[39m\u001b[38;5;124m\"\u001b[39m, s, err\u001b[38;5;241m.\u001b[39mvalue) \u001b[38;5;28;01mfrom\u001b[39;00m \u001b[38;5;28;01mNone\u001b[39;00m\n\u001b[0;32m    356\u001b[0m \u001b[38;5;28;01mreturn\u001b[39;00m obj, end\n",
      "\u001b[1;31mJSONDecodeError\u001b[0m: Expecting value: line 1 column 1 (char 0)",
      "\nDuring handling of the above exception, another exception occurred:\n",
      "\u001b[1;31mJSONDecodeError\u001b[0m                           Traceback (most recent call last)",
      "Cell \u001b[1;32mIn[37], line 15\u001b[0m\n\u001b[0;32m     11\u001b[0m resale_data \u001b[38;5;241m=\u001b[39m get_resale_data(session, \u001b[38;5;241m14520285147\u001b[39m)\n\u001b[0;32m     12\u001b[0m \u001b[38;5;66;03m# print(resale_data)\u001b[39;00m\n\u001b[0;32m     13\u001b[0m \n\u001b[0;32m     14\u001b[0m \u001b[38;5;66;03m# user_limiteds = get_user_limited_items(session, 19882314)\u001b[39;00m\n\u001b[1;32m---> 15\u001b[0m data \u001b[38;5;241m=\u001b[39m session\u001b[38;5;241m.\u001b[39mget(\u001b[38;5;124m\"\u001b[39m\u001b[38;5;124mhttps://apis.roblox.com/marketplace-sales/v1/item/14520285147/resale-data\u001b[39m\u001b[38;5;124m\"\u001b[39m)\u001b[38;5;241m.\u001b[39mjson()\n\u001b[0;32m     16\u001b[0m \u001b[38;5;28mprint\u001b[39m(data)\n",
      "File \u001b[1;32mc:\\Users\\goodv\\anaconda3\\envs\\roblox\\Lib\\site-packages\\requests\\models.py:975\u001b[0m, in \u001b[0;36mResponse.json\u001b[1;34m(self, **kwargs)\u001b[0m\n\u001b[0;32m    971\u001b[0m     \u001b[38;5;28;01mreturn\u001b[39;00m complexjson\u001b[38;5;241m.\u001b[39mloads(\u001b[38;5;28mself\u001b[39m\u001b[38;5;241m.\u001b[39mtext, \u001b[38;5;241m*\u001b[39m\u001b[38;5;241m*\u001b[39mkwargs)\n\u001b[0;32m    972\u001b[0m \u001b[38;5;28;01mexcept\u001b[39;00m JSONDecodeError \u001b[38;5;28;01mas\u001b[39;00m e:\n\u001b[0;32m    973\u001b[0m     \u001b[38;5;66;03m# Catch JSON-related errors and raise as requests.JSONDecodeError\u001b[39;00m\n\u001b[0;32m    974\u001b[0m     \u001b[38;5;66;03m# This aliases json.JSONDecodeError and simplejson.JSONDecodeError\u001b[39;00m\n\u001b[1;32m--> 975\u001b[0m     \u001b[38;5;28;01mraise\u001b[39;00m RequestsJSONDecodeError(e\u001b[38;5;241m.\u001b[39mmsg, e\u001b[38;5;241m.\u001b[39mdoc, e\u001b[38;5;241m.\u001b[39mpos)\n",
      "\u001b[1;31mJSONDecodeError\u001b[0m: Expecting value: line 1 column 1 (char 0)"
     ]
    },
    {
     "ename": "",
     "evalue": "",
     "output_type": "error",
     "traceback": [
      "\u001b[1;31mThe Kernel crashed while executing code in the current cell or a previous cell. \n",
      "\u001b[1;31mPlease review the code in the cell(s) to identify a possible cause of the failure. \n",
      "\u001b[1;31mClick <a href='https://aka.ms/vscodeJupyterKernelCrash'>here</a> for more info. \n",
      "\u001b[1;31mView Jupyter <a href='command:jupyter.viewOutput'>log</a> for further details."
     ]
    }
   ],
   "source": [
    "# test item id 14520285147\n",
    "# user id 19882314\n",
    "# https://economy.roblox.com/v1/assets/LIMITED_ITEM_ID/resale-data\n",
    "\n",
    "roblosecurity = open(\"roblosecurity.txt\", \"r\").read()\n",
    "\n",
    "# Setup Session\n",
    "session = requests.Session()\n",
    "session.cookies[\".ROBLOSECURITY\"] = roblosecurity\n",
    "\n",
    "resale_data = get_resale_data(session, 14520285147)\n",
    "# print(resale_data)\n",
    "\n",
    "# user_limiteds = get_user_limited_items(session, 19882314)\n",
    "data = session.get(\"https://apis.roblox.com/marketplace-sales/v1/item/14520285147/resale-data\").json()\n",
    "print(data)"
   ]
  }
 ],
 "metadata": {
  "kernelspec": {
   "display_name": "Python 3",
   "language": "python",
   "name": "python3"
  },
  "language_info": {
   "codemirror_mode": {
    "name": "ipython",
    "version": 3
   },
   "file_extension": ".py",
   "mimetype": "text/x-python",
   "name": "python",
   "nbconvert_exporter": "python",
   "pygments_lexer": "ipython3",
   "version": "3.11.4"
  }
 },
 "nbformat": 4,
 "nbformat_minor": 5
}
